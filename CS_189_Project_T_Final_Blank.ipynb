{
  "nbformat": 4,
  "nbformat_minor": 0,
  "metadata": {
    "colab": {
      "name": "CS 189 Project T Final - Blank",
      "provenance": [],
      "collapsed_sections": []
    },
    "kernelspec": {
      "name": "python3",
      "display_name": "Python 3"
    }
  },
  "cells": [
    {
      "cell_type": "markdown",
      "metadata": {
        "id": "gjy5ZSZArN_N"
      },
      "source": [
        "# Decision Trees\n",
        "\n",
        "## About the Dataset\n",
        "This assignment uses a datset from the UCI Machine Learning Repository that contains red wine features based on physiocochemical tests. You will be using the features to predict the quality of the wine, which is a score between 0 and 10 based on sensory data. Scores greater than or equal to 7 indicate that the quality is good, and scores less than 7 indicate that the quality is bad. \n",
        "\n",
        "**Features:**\n",
        "\n",
        "***Input variables:***\n",
        "\n",
        "1 - Fixed Acidity\n",
        "\n",
        "2 - Volatile Acidity\n",
        "\n",
        "3 - Citric Acid\n",
        "\n",
        "4 - Residual Sugar\n",
        "\n",
        "5 - Chlorides\n",
        "\n",
        "6 - Free Sulfur Dioxide\n",
        "\n",
        "7 - Total Sulfur Dioxide\n",
        "\n",
        "8 - Density\n",
        "\n",
        "9 - pH\n",
        "\n",
        "10 - Sulphates\n",
        "\n",
        "11 - Alcohol\n",
        "\n",
        "***Output variable:***\n",
        "\n",
        "12 - Quality (1 for Good & 0 for Bad)\n",
        "\n",
        "For more information about the dataset, visit https://archive.ics.uci.edu/ml/datasets/wine+quality"
      ]
    },
    {
      "cell_type": "code",
      "metadata": {
        "id": "c1udCiktraKB"
      },
      "source": [
        "import math\n",
        "import pandas as pd\n",
        "import numpy as np\n",
        "\n",
        "# Download the data from UCI Machine Learning Repository\n",
        "!wget https://archive.ics.uci.edu/ml/machine-learning-databases/wine-quality/winequality-red.csv\n",
        "\n",
        "df = pd.read_csv('winequality-red.csv', sep =';')\n",
        "# remove NA's and reset the index\n",
        "df = df.dropna(axis=0, how='any', thresh=None, subset=None, inplace=False)\n",
        "df = df.reset_index(drop=True)\n",
        "df.head()"
      ],
      "execution_count": null,
      "outputs": []
    },
    {
      "cell_type": "markdown",
      "metadata": {
        "id": "fvn90eE66dDz"
      },
      "source": [
        "---\n",
        "**Question 1**: Set the quality for good wines to 1 and the quality for bad wines to 0. How many good quality and bad quality wines are in this dataset?"
      ]
    },
    {
      "cell_type": "code",
      "metadata": {
        "id": "VZC-xAL-6cYY"
      },
      "source": [
        "# YOUR CODE HERE\n",
        "wine = df.copy() # make a copy so the original data does not get changed\n",
        "\n",
        "good = 0\n",
        "bad = 0\n",
        "\n",
        "print('There are', good, 'good wines and', bad, 'bad wines')"
      ],
      "execution_count": null,
      "outputs": []
    },
    {
      "cell_type": "markdown",
      "metadata": {
        "id": "rqxcQcumhOkx"
      },
      "source": [
        "# Data Visualization and Introduction to Decision Boundaries"
      ]
    },
    {
      "cell_type": "markdown",
      "metadata": {
        "id": "AYreBs6OLd5y"
      },
      "source": [
        "---\n",
        "**Question 2a):** Let's try to visualize our data to gain better intuition on the different features for classificiation. For the purposes of easy visualization, create a scatter plot using the two features **volatile acidity** and **total sulfur dioxide**. Remember to label your graph! Refer to [seaborn.scatterplot](https://seaborn.pydata.org/generated/seaborn.scatterplot.html) documentation.  "
      ]
    },
    {
      "cell_type": "code",
      "metadata": {
        "id": "gewu3HwpN3Xg"
      },
      "source": [
        "import seaborn as sns\n",
        "import matplotlib.pyplot as plt\n",
        "\n",
        "# YOUR CODE HERE"
      ],
      "execution_count": null,
      "outputs": []
    },
    {
      "cell_type": "markdown",
      "metadata": {
        "id": "TzFzgPS9cC4r"
      },
      "source": [
        "---\n",
        "**Question 2b):** How might you try to classify the data based on just these two features and our scatter plot? E.g. Volatile acidity < (number1) and total sulfur dioxide < (number2) would be classified as good quality. Approximate the values of number1 and number2."
      ]
    },
    {
      "cell_type": "code",
      "metadata": {
        "id": "96D-IMvWcsl_"
      },
      "source": [
        "number1 = # YOUR CODE HERE\n",
        "number2 = # YOUR CODE HERE"
      ],
      "execution_count": null,
      "outputs": []
    },
    {
      "cell_type": "markdown",
      "metadata": {
        "id": "aCASPs_mfAtn"
      },
      "source": [
        "---\n",
        "**Question 2c):** Why could this visualization be misleading and make our approximations from the previous part wrong?"
      ]
    },
    {
      "cell_type": "markdown",
      "metadata": {
        "id": "4mdwiSx1fKdZ"
      },
      "source": [
        "**Answer:**"
      ]
    },
    {
      "cell_type": "markdown",
      "metadata": {
        "id": "P2FnM8unc9wF"
      },
      "source": [
        "---\n",
        "**Question 2d):** Let's now try to visualize a simpler 1D case to see if we can more accurately find the decision boundary between good and bad quality wine. Create a scatter plot of volatile acidity against quality. "
      ]
    },
    {
      "cell_type": "code",
      "metadata": {
        "id": "V5IFmAnwduoP"
      },
      "source": [
        "# YOUR CODE HERE"
      ],
      "execution_count": null,
      "outputs": []
    },
    {
      "cell_type": "markdown",
      "metadata": {
        "id": "WKeNm7ZWRwe3"
      },
      "source": [
        "---\n",
        "**Question 2e):** Add random uniform noise between [-0.1, 0.1] to the wine quality for each of our data points to better visualize the different data points. This technique is known as jittering. Refer to [np.random.uniform](https://numpy.org/doc/stable/reference/random/generated/numpy.random.uniform.html) documentation. \n",
        "\n"
      ]
    },
    {
      "cell_type": "code",
      "metadata": {
        "id": "0h9Nq3wESuUA"
      },
      "source": [
        "# YOUR CODE HERE"
      ],
      "execution_count": null,
      "outputs": []
    },
    {
      "cell_type": "markdown",
      "metadata": {
        "id": "etiv-q3tgzPl"
      },
      "source": [
        "---\n",
        "**Question 2f):** Now looking at the above plot, do you think your estimate from question **2b)** would do an accurate job in differentiating between good and bad quality wine? In other words, do you think you could easily draw a vertical line to split the good quality and bad quality wine? This is the idea of a decision boundary."
      ]
    },
    {
      "cell_type": "markdown",
      "metadata": {
        "id": "wPZRmaMthvrG"
      },
      "source": [
        "**Answer:**\n",
        " "
      ]
    },
    {
      "cell_type": "markdown",
      "metadata": {
        "id": "-F4-fa_tiPkA"
      },
      "source": [
        "In the following parts of the project, we will formalize a process known as decision trees to better classify whether a wine is good quality or bad quality."
      ]
    },
    {
      "cell_type": "markdown",
      "metadata": {
        "id": "XOKh3mriVEnB"
      },
      "source": [
        "# Best Split Using the Gini Index\n",
        "The Gini Index is a value ranging from $[0, 1]$ that represents the probability a feature will be incorrectly classified when randomly selected. In decision trees, features with a low gini index are highly desirable because it indicates that the classification is pure."
      ]
    },
    {
      "cell_type": "markdown",
      "metadata": {
        "id": "BQx0jLJE10BL"
      },
      "source": [
        "---\n",
        "**Question 3a**: Implement the following function to compute the Gini Index. \n",
        "\n",
        "What is the Gini Index for the parent node? \n",
        "\n",
        "Recall that the Gini Index for a parent node can be calculated with the following formula: *$Gini(D) = 1 - \\sum_{i=1}^{m} p_i^{2}$\n",
        "\n",
        "*$p_i$ is the percentage of instances in $D$ when $i$ is the label"
      ]
    },
    {
      "cell_type": "code",
      "metadata": {
        "id": "e7CgI8UE17IM"
      },
      "source": [
        "def compute_gini(X):\n",
        "  # YOUR CODE HERE\n",
        "\n",
        "  return gini\n",
        "\n",
        "gini = ...\n",
        "\n",
        "print('The Gini Index for the parent node is:', gini)"
      ],
      "execution_count": null,
      "outputs": []
    },
    {
      "cell_type": "markdown",
      "metadata": {
        "id": "SwMDUGaprwWe"
      },
      "source": [
        "---\n",
        "**Question 3b)** The Gini Index for an attribute/split can be calculated with the following formula: \n",
        "\n",
        "$Gini_A(D) = \\frac{|D_1|}{|D|}Gini(D_1) + \\frac{|D_2|}{|D|}Gini(D_2)$\n",
        "\n",
        "Implement the following helper functions to help us find the Gini Index for an attribute"
      ]
    },
    {
      "cell_type": "code",
      "metadata": {
        "id": "8JcpdSYYs3im"
      },
      "source": [
        "# Implement a function to find all possible split values for an attribute\n",
        "def find_splits_gini(X, column):\n",
        "    split_values = []\n",
        "    # YOUR CODE HERE\n",
        "\n",
        "    # Set the split value to be the midpoint between consecutive values of the feature\n",
        "    # YOUR CODE HERE\n",
        "\n",
        "    return split_values\n",
        "\n",
        "# Next, implement a function to find the best split point for a feature and the \n",
        "# gini value of the best split\n",
        "def best_split_point(X, column, splits):\n",
        "    best_split = 0\n",
        "    min_gini = 100000\n",
        "    # YOUR CODE HERE\n",
        "\n",
        "    return best_split, min_gini"
      ],
      "execution_count": null,
      "outputs": []
    },
    {
      "cell_type": "markdown",
      "metadata": {
        "id": "JeNgmNhYVXoj"
      },
      "source": [
        "---\n",
        "**Question 3c**: Using the helper functions above, find the **best feature** that minimizes the Gini Index of its best split point. The best feature will be the root node of the decision tree. What is the **best split point** for this feature? What is the **gini index** of the best split point?"
      ]
    },
    {
      "cell_type": "code",
      "metadata": {
        "id": "3D7f-P1T3RzJ"
      },
      "source": [
        "# YOUR CODE HERE\n",
        "\n",
        "print('The best feature is:', best_feature)\n",
        "print('The best split point for', best_feature, 'is:', best_split)\n",
        "print('The gini index of the best split point for', best_feature, 'is:', min_gini)"
      ],
      "execution_count": null,
      "outputs": []
    },
    {
      "cell_type": "markdown",
      "metadata": {
        "id": "0HaVpqt2bDYq"
      },
      "source": [
        "# Entropy (Information Gain)\n",
        "\n",
        "We just saw that we found the best split by using the Gini index but that is not the only splitting method. In this section, we will explore a similar metric called entropy. The concept of gini and entropy in fact arose from similar motivations. Gini came from statistics and entropy from computer science/information theory. \n",
        "\n",
        "![0_Nsuwaq2Padpbdz9Y.png](data:image/png;base64,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)\n"
      ]
    },
    {
      "cell_type": "markdown",
      "metadata": {
        "id": "8exlg4AqbHvb"
      },
      "source": [
        "The graph above shows the visualization of these two metrics for binary classification as well as the misclassifation error for comparison. We notice that they are very similar. Let's explore entropy in more detail! "
      ]
    },
    {
      "cell_type": "markdown",
      "metadata": {
        "id": "YkwKUTNebNgM"
      },
      "source": [
        "---\n",
        "**Question 4a)** Recall from physics what entropy represents. Entropy is a measure of the molecular disorder, or randomness, of a system. Let's try to model the \"surprise\" of some random variable $Y$ taking on the value $k$. This can be shown as,\n",
        "\n",
        "\"surprise\" = $-log(P(Y = k))$\n",
        "\n",
        "Find the limit of the \"surprise\" as $P(Y=k)$ approaches $0$.\n",
        "Find the limit of the \"surpise\" as $P(Y=k)$ approaches $1$.\n",
        "Explain why the above results make sense."
      ]
    },
    {
      "cell_type": "markdown",
      "metadata": {
        "id": "ZADGRzeP_FD2"
      },
      "source": [
        "\n",
        "**ANSWER:**"
      ]
    },
    {
      "cell_type": "markdown",
      "metadata": {
        "id": "s3u1fc5-bTp9"
      },
      "source": [
        "---\n",
        "**Question 4b)** Now lets try to formalize this idea of \"surprise\". The expectation of the surpise is denoted as the entropy $H$. \n",
        "$H(Y) = E[-logP(Y)] =- \\sum_{k}P(Y=k)logP(Y=k)$"
      ]
    },
    {
      "cell_type": "markdown",
      "metadata": {
        "id": "lylzZXxqbdRp"
      },
      "source": [
        "Now we can use this concept of entropy to decide on which split is the best by treating the probability of $k$ as the proportion of data points in a node with label $k$. We can now find the entropy of a node through this formula. \n",
        "\n",
        "Define the entropy $S$ of a node as:\n",
        "$S = - \\sum_{c}p_clog_2p_c$\n",
        "\n",
        "**Find the entropy of the parent node.**"
      ]
    },
    {
      "cell_type": "code",
      "metadata": {
        "id": "6urVOx9hbjNR"
      },
      "source": [
        "# YOUR CODE HERE\n",
        "parent_entropy = ...\n",
        "\n",
        "print('The entropy for the parent node is:', parent_entropy)"
      ],
      "execution_count": null,
      "outputs": []
    },
    {
      "cell_type": "markdown",
      "metadata": {
        "id": "KiNSLZorbnXS"
      },
      "source": [
        "---\n",
        "**Question 4c)** We can now use use weighted entropy as a loss function to help us decide on the best split. \n",
        "\n",
        "$Loss$ = $\\frac {N_1S(X) + N_2S(Y)}{N_1 + N_2}$\n"
      ]
    },
    {
      "cell_type": "markdown",
      "metadata": {
        "id": "HNAYpq-Dbrj0"
      },
      "source": [
        "The above shows an example of a split given two nodes $X$ and $Y$ where $S(X)$ and $S(Y)$ represents the entropy of each and $N_1$ and $N_2$ represents the total number of samples respectively. \n",
        "\n",
        "Now, describe how you would use this loss function to find the best split for the wine data."
      ]
    },
    {
      "cell_type": "markdown",
      "metadata": {
        "id": "EhJjoapbpsu8"
      },
      "source": [
        "**ANSWER:** "
      ]
    },
    {
      "cell_type": "markdown",
      "metadata": {
        "id": "Qga6fmXqbui5"
      },
      "source": [
        "---\n",
        "**Question 4d)** Implement the following helper functions to help us find the best split."
      ]
    },
    {
      "cell_type": "code",
      "metadata": {
        "id": "PK_1dnYhbz5A"
      },
      "source": [
        "# First implement a function to calculate the entropy given a split\n",
        "def compute_entropy(split):\n",
        "  # YOUR CODE HERE\n",
        "\n",
        "  return entropy\n",
        "\n",
        "# Next implement a function to find all possible split values, this will set the \n",
        "# the threshold of determining where the split goes\n",
        "def find_splits_entropy(X, column):\n",
        "    # Sort the unique values of the feature\n",
        "    # YOUR CODE HERE\n",
        "\n",
        "\n",
        "    # Initialize the split values\n",
        "    # YOUR CODE HERE\n",
        "\n",
        "\n",
        "    # Set the split value to be the average value from the previous one\n",
        "    # YOUR CODE HERE\n",
        "\n",
        "\n",
        "    return split_values\n",
        "\n",
        "# Next implement a function to find the weighted entropy of the splits, use the previous\n",
        "# compute_entropy function to help with the implementation\n",
        "def compute_splits_entropy(y, splits):\n",
        "  # YOUR CODE HERE\n",
        "\n",
        "    return splits_entropy\n",
        "\n",
        "# Next implement a function which will actually split the values based on the\n",
        "# threshold value\n",
        "def split(X, y, column, value):\n",
        "  # YOUR CODE HERE\n",
        "\n",
        "    return left_y, right_y"
      ],
      "execution_count": null,
      "outputs": []
    },
    {
      "cell_type": "markdown",
      "metadata": {
        "id": "ffaq2U0Sb37h"
      },
      "source": [
        "---\n",
        "**Question 4e)** Finally, using the helper functions and **question 4c)**, implement the find_best_split function which will find the best split by minimizing the weighted entropy. "
      ]
    },
    {
      "cell_type": "code",
      "metadata": {
        "id": "ySNOi13Lb8UY"
      },
      "source": [
        "def find_best_split(X, y, max_features):\n",
        "    subset = np.random.choice(X.shape[1], max_features, replace = False)\n",
        "    # Set default best split attributes\n",
        "    # YOUR CODE HERE\n",
        "\n",
        "    for column in subset:\n",
        "      # Find the split values\n",
        "      # YOUR CODE HERE\n",
        "        \n",
        "        for value in split_values:\n",
        "            # Split on the value\n",
        "            # YOUR CODE HERE\n",
        "            \n",
        "            # Find the information gain of the splits, this is the parent entropy\n",
        "            # subtracted by the splits entropy\n",
        "            # YOUR CODE HERE\n",
        "            \n",
        "\n",
        "            if best_gain is None or gain > best_gain:\n",
        "                # Update the best split attributes\n",
        "                \n",
        "\n",
        "    return best_col, best_val, best_gain"
      ],
      "execution_count": null,
      "outputs": []
    },
    {
      "cell_type": "markdown",
      "metadata": {
        "id": "7VgUqgcccAXw"
      },
      "source": [
        "---\n",
        "**Question 4f)** Using find_best_split, report the **best feature**, **split value**, and the **information gain** (parent entropy - splits entropy) using the wine data.  "
      ]
    },
    {
      "cell_type": "code",
      "metadata": {
        "id": "R_MGmpgMcDQt"
      },
      "source": [
        "# YOUR CODE HERE\n",
        "best_col = None\n",
        "best_val = None\n",
        "best_gain = None\n",
        "print('The best feature is:', df.columns[best_col])\n",
        "print(\"The best split value is:\", best_val)\n",
        "print(\"The best gain is:\", best_gain)"
      ],
      "execution_count": null,
      "outputs": []
    },
    {
      "cell_type": "markdown",
      "metadata": {
        "id": "iq2TTQercfv2"
      },
      "source": [
        "---\n",
        "**Question 4g)** How does the best feature and split value using information gain compare to the best feature and split value using the Gini Index?"
      ]
    },
    {
      "cell_type": "markdown",
      "metadata": {
        "id": "Tu-JDiXocxnv"
      },
      "source": [
        "**Answer:**\n"
      ]
    },
    {
      "cell_type": "markdown",
      "metadata": {
        "id": "vhf4R26Pd6Lc"
      },
      "source": [
        "# Building a Decision Tree Model"
      ]
    },
    {
      "cell_type": "markdown",
      "metadata": {
        "id": "4bqnTw8wiH5N"
      },
      "source": [
        "**Question 5a**: Split the data into testing and training sets and then apply standard scaling to the data"
      ]
    },
    {
      "cell_type": "code",
      "metadata": {
        "id": "P2pmB0ULiJKd"
      },
      "source": [
        "from sklearn.model_selection import train_test_split\n",
        "from sklearn.preprocessing import StandardScaler\n",
        "\n",
        "df_tree = wine.copy()\n",
        "# YOUR CODE HERE"
      ],
      "execution_count": null,
      "outputs": []
    },
    {
      "cell_type": "markdown",
      "metadata": {
        "id": "9sMpRflC4nuS"
      },
      "source": [
        "**Question 5b**: Train a decision tree classifier with a depth of three. "
      ]
    },
    {
      "cell_type": "code",
      "metadata": {
        "id": "nqYZjohu45iC"
      },
      "source": [
        "from sklearn.tree import DecisionTreeClassifier\n",
        "# YOUR CODE HERE"
      ],
      "execution_count": null,
      "outputs": []
    },
    {
      "cell_type": "markdown",
      "metadata": {
        "id": "Ykfoxfss54zK"
      },
      "source": [
        "---\n",
        "**Question 5c**: What is the accuracy of the decision tree classifier on the training data? "
      ]
    },
    {
      "cell_type": "code",
      "metadata": {
        "id": "0hYJSo1l5-lT"
      },
      "source": [
        "from sklearn.metrics import accuracy_score\n",
        "# YOUR CODE HERE \n",
        "accuracy = ...\n",
        "\n",
        "print('The accuracy of the decision tree classifier on the training data is:', accuracy)"
      ],
      "execution_count": null,
      "outputs": []
    },
    {
      "cell_type": "markdown",
      "metadata": {
        "id": "oZROSjVHjdxj"
      },
      "source": [
        "---\n",
        "**Question 5d**: What is the accuracy of the decision tree classifier on the testing data? "
      ]
    },
    {
      "cell_type": "code",
      "metadata": {
        "id": "Z2S6OOYdjjMv"
      },
      "source": [
        "# YOUR CODE HERE \n",
        "accuracy = ...\n",
        "\n",
        "print('The accuracy of the decision tree classifier on the testing data is:', accuracy)"
      ],
      "execution_count": null,
      "outputs": []
    },
    {
      "cell_type": "markdown",
      "metadata": {
        "id": "9aGh5FuO7ZDP"
      },
      "source": [
        "---\n",
        "**Question 5e**: Visualize your decision tree with graphviz. Comment on your observations.\n",
        "\n"
      ]
    },
    {
      "cell_type": "code",
      "metadata": {
        "id": "2R8C87Yg7hUE"
      },
      "source": [
        "!sudo apt-get install graphviz"
      ],
      "execution_count": null,
      "outputs": []
    },
    {
      "cell_type": "code",
      "metadata": {
        "id": "YEhtDkuf7iJN"
      },
      "source": [
        "from IPython.display import Image  \n",
        "import pydotplus \n",
        "import pydot\n",
        "from sklearn.externals.six import StringIO\n",
        "from sklearn import tree\n",
        "\n",
        "out = StringIO() \n",
        "tree.export_graphviz(clf, out_file=out,\n",
        "                      feature_names=list(df_tree.columns),  \n",
        "                          class_names=['Bad Quality', 'Good Quality'],  \n",
        "                          filled=True, rounded=True,  \n",
        "                          special_characters=True)\n",
        "graph = pydotplus.graph_from_dot_data(out.getvalue())\n",
        "Image(graph.create_png())"
      ],
      "execution_count": null,
      "outputs": []
    },
    {
      "cell_type": "markdown",
      "metadata": {
        "id": "MTCmZ7ln-hRJ"
      },
      "source": [
        "**Observations:**"
      ]
    }
  ]
}